{
 "cells": [
  {
   "cell_type": "code",
   "execution_count": 1,
   "metadata": {},
   "outputs": [],
   "source": [
    "import pandas as pd\n",
    "import numpy as np\n",
    "\n",
    "#function to load csv to dataframe\n",
    "def load_data(data_url):\n",
    "    df=pd.read_csv(data_url)\n",
    "    return df\n",
    "\n",
    "data_url=r\"C:\\Python_Projects\\IPL_MLOPS_Aug\\ipl_mlops_aug\\data\\raw\\all_season_details.csv\"\n",
    "\n",
    "df=load_data(data_url)\n"
   ]
  }
 ],
 "metadata": {
  "kernelspec": {
   "display_name": "myenv",
   "language": "python",
   "name": "python3"
  },
  "language_info": {
   "codemirror_mode": {
    "name": "ipython",
    "version": 3
   },
   "file_extension": ".py",
   "mimetype": "text/x-python",
   "name": "python",
   "nbconvert_exporter": "python",
   "pygments_lexer": "ipython3",
   "version": "3.12.5"
  }
 },
 "nbformat": 4,
 "nbformat_minor": 2
}
